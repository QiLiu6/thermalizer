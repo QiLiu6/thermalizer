{
 "cells": [
  {
   "cell_type": "code",
   "execution_count": 1,
   "id": "c0a113d9-1f36-44b5-aad8-4bb84d8e7317",
   "metadata": {},
   "outputs": [],
   "source": [
    "import torch\n",
    "import pickle\n",
    "import os\n",
    "sys.path.append('/home/ql2221/Projects/thermalizer/thermalizer/kolmogorov')\n",
    "import performance\n",
    "sys.path.append('/home/ql2221/Projects/thermalizer/thermalizer/models')\n",
    "import misc"
   ]
  },
  {
   "cell_type": "code",
   "execution_count": 7,
   "id": "fc764d65-5f44-4f5f-907b-6ddf8f7c4b29",
   "metadata": {},
   "outputs": [
    {
     "name": "stdout",
     "output_type": "stream",
     "text": [
      "dict_keys(['epoch', 'training_step', 'state_dict', 'optimizer_state_dict', 'val_loss', 'config'])\n"
     ]
    }
   ],
   "source": [
    "#get the emulator\n",
    "device = torch.device(\"cuda\" if torch.cuda.is_available() else \"cpu\")\n",
    "\n",
    "with open('/scratch/ql2221/thermalizer_data/wandb_data/wandb/latest-run/files/checkpoint_last.p', 'rb') as f:\n",
    "    checkpoint = pickle.load(f)\n",
    "\n",
    "print(checkpoint.keys())  # Print the content to check what it contains (model, optimizer, etc.)\n",
    "\n",
    "model_weights = checkpoint['state_dict']\n",
    "optimizer_state_dict = checkpoint['optimizer_state_dict']\n",
    "\n",
    "# Extract the configuration (this might include hyperparameters, model architecture details, etc.)\n",
    "config = checkpoint['config']\n",
    "\n",
    "# Initialize your model with the correct config\n",
    "# Assuming you have a model class like 'ModernUnet' from the 'unet_modern' module\n",
    "model=misc.model_factory(config).to(device)\n"
   ]
  },
  {
   "cell_type": "code",
   "execution_count": 8,
   "id": "cadbbf20-d07f-4e1b-b606-73bb82cf6a82",
   "metadata": {},
   "outputs": [],
   "source": [
    "#load data\n",
    "loaded_data = torch.load(\"/scratch/ql2221/thermalizer_data/kolmogorov/reynold10k/0412test.p\")\n",
    "sim_stack_loaded = loaded_data[\"data\"]"
   ]
  },
  {
   "cell_type": "code",
   "execution_count": 9,
   "id": "db022b83-699c-4487-a998-0baf889c7a20",
   "metadata": {},
   "outputs": [],
   "source": [
    "x = sim_stack_loaded[0,0,:,:]\n",
    "x = x.unsqueeze(0).unsqueeze(0).to(device)"
   ]
  },
  {
   "cell_type": "code",
   "execution_count": 10,
   "id": "8e3d1f66-30af-45ad-a138-afefcb29c01b",
   "metadata": {},
   "outputs": [
    {
     "name": "stderr",
     "output_type": "stream",
     "text": [
      "100%|██████████| 999/999 [00:05<00:00, 172.42it/s]\n"
     ]
    }
   ],
   "source": [
    "rollout, _,_ = performance.run_emu(x,model,None,1000)"
   ]
  },
  {
   "cell_type": "code",
   "execution_count": 11,
   "id": "ba929ffe-da90-40a0-a210-7fa44659aa51",
   "metadata": {},
   "outputs": [
    {
     "name": "stderr",
     "output_type": "stream",
     "text": [
      "/ext3/miniforge3/lib/python3.12/site-packages/matplotlib/colors.py:778: RuntimeWarning: overflow encountered in multiply\n",
      "  xa *= self.N\n"
     ]
    },
    {
     "data": {
      "image/png": "[encoded data removed]",
      "text/plain": [
       "<Figure size 640x480 with 1 Axes>"
      ]
     },
     "metadata": {},
     "output_type": "display_data"
    }
   ],
   "source": [
    "import matplotlib.pyplot as plt\n",
    "import matplotlib.animation as animation\n",
    "import numpy as np\n",
    "\n",
    "# Assume you have state_vector from run_emu\n",
    "# Choose the first example in the batch\n",
    "frames = rollout[0].detach().cpu().numpy()\n",
    "\n",
    "fig, ax = plt.subplots()\n",
    "im = ax.imshow(frames[0], cmap='viridis', animated=True)\n",
    "\n",
    "def update(frame):\n",
    "    im.set_array(frame)\n",
    "    return [im]\n",
    "\n",
    "ani = animation.FuncAnimation(fig, update, frames=frames, interval=50, blit=True)\n",
    "\n",
    "# Save as MP4 (requires ffmpeg installed)\n",
    "ani.save(\"state_vector_movie.mp4\", writer='ffmpeg')\n",
    "\n",
    "# Or save as GIF (requires imagemagick installed)\n",
    "# ani.save(\"state_vector_movie.gif\", writer='imagemagick')\n",
    "\n",
    "plt.show()\n"
   ]
  },
  {
   "cell_type": "code",
   "execution_count": null,
   "id": "cd2c2c0e-06cb-4554-9485-076fa376b9e4",
   "metadata": {},
   "outputs": [],
   "source": []
  },
  {
   "cell_type": "code",
   "execution_count": null,
   "id": "a269e4c3-13dc-42ab-a3dc-96e2598d57cb",
   "metadata": {},
   "outputs": [],
   "source": []
  }
 ],
 "metadata": {
  "kernelspec": {
   "display_name": "my_env",
   "language": "python",
   "name": "my_env"
  },
  "language_info": {
   "codemirror_mode": {
    "name": "ipython",
    "version": 3
   },
   "file_extension": ".py",
   "mimetype": "text/x-python",
   "name": "python",
   "nbconvert_exporter": "python",
   "pygments_lexer": "ipython3",
   "version": "3.12.8"
  }
 },
 "nbformat": 4,
 "nbformat_minor": 5
}
