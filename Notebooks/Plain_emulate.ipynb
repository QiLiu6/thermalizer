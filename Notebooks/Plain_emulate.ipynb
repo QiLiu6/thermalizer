{
 "cells": [
  {
   "cell_type": "code",
   "execution_count": 8,
   "id": "bab4710e-6f17-4671-be51-ea76aa91a4d8",
   "metadata": {},
   "outputs": [],
   "source": [
    "import torch\n",
    "import pickle\n",
    "import os\n",
    "from tqdm import tqdm\n",
    "sys.path.append('/home/ql2221/Projects/thermalizer/thermalizer/kolmogorov')\n",
    "import performance\n",
    "sys.path.append('/home/ql2221/Projects/thermalizer/thermalizer/models')\n",
    "import misc\n",
    "sys.path.append('/home/ql2221/Projects/thermalizer/thermalizer/systems')\n",
    "import training_systems"
   ]
  },
  {
   "cell_type": "code",
   "execution_count": 11,
   "id": "fc764d65-5f44-4f5f-907b-6ddf8f7c4b29",
   "metadata": {},
   "outputs": [],
   "source": [
    "#get the emulator\n",
    "device = torch.device(\"cuda\" if torch.cuda.is_available() else \"cpu\")\n",
    "# device = torch.device(\"cpu\")\n",
    "file_string = '/scratch/ql2221/thermalizer_data/wandb_data/wandb/run-20250526_223850-r12kgbg1/files/checkpoint_best.p'\n",
    "with open(file_string, 'rb') as f:\n",
    "    checkpoint = pickle.load(f)\n",
    "\n",
    "# Extract the configuration (this might include hyperparameters, model architecture details, etc.)\n",
    "config = checkpoint['config']"
   ]
  },
  {
   "cell_type": "code",
   "execution_count": 12,
   "id": "e987b452-3cc4-4376-8882-31311c14bd84",
   "metadata": {},
   "outputs": [],
   "source": [
    "model=misc.load_model(file_string).to(device)"
   ]
  },
  {
   "cell_type": "code",
   "execution_count": 2,
   "id": "10f39719-6595-4d0b-912e-7177e804e4bf",
   "metadata": {},
   "outputs": [
    {
     "name": "stdout",
     "output_type": "stream",
     "text": [
      "Prep data\n"
     ]
    },
    {
     "name": "stderr",
     "output_type": "stream",
     "text": [
      "/ext3/miniforge3/lib/python3.12/site-packages/torch/utils/data/dataloader.py:624: UserWarning: This DataLoader will create 3 worker processes in total. Our suggested max number of worker in current system is 2, which is smaller than what this DataLoader is going to create. Please be aware that excessive worker creation might get DataLoader running slow or even freeze, lower the worker number to avoid potential slowness/freeze if necessary.\n",
      "  warnings.warn(\n"
     ]
    },
    {
     "name": "stdout",
     "output_type": "stream",
     "text": [
      "Prep model\n",
      "Prep optimizer\n"
     ]
    },
    {
     "name": "stderr",
     "output_type": "stream",
     "text": [
      "Failed to detect the name of this notebook, you can set it manually with the WANDB_NOTEBOOK_NAME environment variable to enable code saving.\n",
      "\u001b[34m\u001b[1mwandb\u001b[0m: Using wandb-core as the SDK backend.  Please refer to https://wandb.me/wandb-core for more information.\n",
      "\u001b[34m\u001b[1mwandb\u001b[0m: Currently logged in as: \u001b[33mql2221\u001b[0m (\u001b[33mqiliu2221\u001b[0m) to \u001b[32mhttps://api.wandb.ai\u001b[0m. Use \u001b[1m`wandb login --relogin`\u001b[0m to force relogin\n"
     ]
    },
    {
     "data": {
      "text/html": [
       "Tracking run with wandb version 0.19.7"
      ],
      "text/plain": [
       "<IPython.core.display.HTML object>"
      ]
     },
     "metadata": {},
     "output_type": "display_data"
    },
    {
     "data": {
      "text/html": [
       "Run data is saved locally in <code>/scratch/ql2221/thermalizer_data/wandb_data/wandb/run-20250529_220857-r12kgbg1</code>"
      ],
      "text/plain": [
       "<IPython.core.display.HTML object>"
      ]
     },
     "metadata": {},
     "output_type": "display_data"
    },
    {
     "data": {
      "text/html": [
       "Resuming run <strong><a href='https://wandb.ai/qiliu2221/thermalizer/runs/r12kgbg1' target=\"_blank\">dulcet-grass-56</a></strong> to <a href='https://wandb.ai/qiliu2221/thermalizer' target=\"_blank\">Weights & Biases</a> (<a href='https://wandb.me/developer-guide' target=\"_blank\">docs</a>)<br>"
      ],
      "text/plain": [
       "<IPython.core.display.HTML object>"
      ]
     },
     "metadata": {},
     "output_type": "display_data"
    },
    {
     "data": {
      "text/html": [
       " View project at <a href='https://wandb.ai/qiliu2221/thermalizer' target=\"_blank\">https://wandb.ai/qiliu2221/thermalizer</a>"
      ],
      "text/plain": [
       "<IPython.core.display.HTML object>"
      ]
     },
     "metadata": {},
     "output_type": "display_data"
    },
    {
     "data": {
      "text/html": [
       " View run at <a href='https://wandb.ai/qiliu2221/thermalizer/runs/r12kgbg1' target=\"_blank\">https://wandb.ai/qiliu2221/thermalizer/runs/r12kgbg1</a>"
      ],
      "text/plain": [
       "<IPython.core.display.HTML object>"
      ]
     },
     "metadata": {},
     "output_type": "display_data"
    }
   ],
   "source": [
    "checkpoint_string = \"/scratch/ql2221/thermalizer_data/wandb_data/wandb/run-20250526_223850-r12kgbg1/files/checkpoint_last.p\"\n",
    "trainer = training_systems.trainer_from_checkpoint(checkpoint_string)\n",
    "model= trainer.model"
   ]
  },
  {
   "cell_type": "code",
   "execution_count": 13,
   "id": "cadbbf20-d07f-4e1b-b606-73bb82cf6a82",
   "metadata": {},
   "outputs": [],
   "source": [
    "#load data\n",
    "import pickle\n",
    "\n",
    "# Load data from a .pkl file\n",
    "with open(\"/scratch/cp3759/thermalizer_data/kolmogorov/reynolds10k/test40.p\", \"rb\") as f:\n",
    "    loaded_data = pickle.load(f)\n",
    "\n",
    "sim_stack_loaded = loaded_data[\"data\"]"
   ]
  },
  {
   "cell_type": "code",
   "execution_count": 14,
   "id": "db022b83-699c-4487-a998-0baf889c7a20",
   "metadata": {},
   "outputs": [
    {
     "name": "stdout",
     "output_type": "stream",
     "text": [
      "torch.Size([1, 10000, 64, 64])\n"
     ]
    }
   ],
   "source": [
    "device = torch.device(\"cuda\" if torch.cuda.is_available() else \"cpu\")\n",
    "x = sim_stack_loaded[0,0:10000,:,:]\n",
    "x = x.unsqueeze(0).to(device)\n",
    "print(x.shape)"
   ]
  },
  {
   "cell_type": "code",
   "execution_count": 15,
   "id": "99bfe823-2ca4-4ed2-b11b-ca83b3a60e56",
   "metadata": {},
   "outputs": [
    {
     "name": "stderr",
     "output_type": "stream",
     "text": [
      "100%|██████████| 9999/9999 [01:03<00:00, 157.18it/s]\n"
     ]
    }
   ],
   "source": [
    "emu_rollout=performance.EmulatorRollout(x,model,residual=True,sigma=None,silence=False)\n",
    "emu_rollout.evolve()"
   ]
  },
  {
   "cell_type": "code",
   "execution_count": 16,
   "id": "9249ae7e-00fd-41c6-9ca1-753563c7d46e",
   "metadata": {},
   "outputs": [],
   "source": [
    "def make_movie(state_vector, save_path=\"emulator_movie.mp4\", fps=30, vmin=None, vmax=None, stride=10):\n",
    "    \"\"\"\n",
    "    Create a movie from a 4D tensor of shape (batch, time, height, width), using only every `stride`-th frame.\n",
    "    \n",
    "    Parameters:\n",
    "    - state_vector: torch.Tensor of shape (B, T, H, W)\n",
    "    - save_path: output video file path\n",
    "    - fps: frames per second for the movie\n",
    "    - vmin, vmax: color scale\n",
    "    - stride: only include every `stride`th frame in the video\n",
    "    \"\"\"\n",
    "    B, T, H, W = state_vector.shape\n",
    "    data = state_vector[0].cpu().numpy()\n",
    "\n",
    "    fig, ax = plt.subplots()\n",
    "    im = ax.imshow(data[0], cmap=\"viridis\", vmin=vmin, vmax=vmax)\n",
    "    ax.set_title(\"Timestep 0\")\n",
    "    fig.colorbar(im, ax=ax)\n",
    "\n",
    "    # Frame indices to use\n",
    "    frame_indices = list(range(0, T, stride))\n",
    "\n",
    "    def update(frame_idx):\n",
    "        frame = frame_indices[frame_idx]\n",
    "        im.set_data(data[frame])\n",
    "        ax.set_title(f\"Timestep {frame}\")\n",
    "        return im,\n",
    "\n",
    "    ani = animation.FuncAnimation(fig, update, frames=len(frame_indices), blit=False, repeat=False)\n",
    "    ani.save(save_path, fps=fps)\n",
    "    plt.close(fig)\n",
    "    print(\"movie saved\")"
   ]
  },
  {
   "cell_type": "code",
   "execution_count": 17,
   "id": "6d7ee926-190a-4e2d-885c-984dc2e89245",
   "metadata": {},
   "outputs": [
    {
     "name": "stdout",
     "output_type": "stream",
     "text": [
      "movie saved\n"
     ]
    }
   ],
   "source": [
    "rollout = emu_rollout.emu\n",
    "make_movie(rollout, save_path=\"rollout.mp4\", fps=30)"
   ]
  },
  {
   "cell_type": "code",
   "execution_count": 22,
   "id": "630ecc56-6d8f-425b-a3b3-53dc95399bc6",
   "metadata": {},
   "outputs": [
    {
     "name": "stdout",
     "output_type": "stream",
     "text": [
      "torch.Size([100, 64, 64])\n"
     ]
    }
   ],
   "source": [
    "x = sim_stack_loaded[0,0:100,:,:]\n",
    "x = x.to(device)\n",
    "print(x.shape)"
   ]
  },
  {
   "cell_type": "code",
   "execution_count": 23,
   "id": "d84f5ab4-db20-4189-873d-061374042aba",
   "metadata": {},
   "outputs": [],
   "source": [
    "roll = performance.KolmogorovAnimation(x,model,savestring=\"hh\")"
   ]
  },
  {
   "cell_type": "code",
   "execution_count": 24,
   "id": "22ffb6df-79c6-488b-bacc-28dbaafecf4b",
   "metadata": {},
   "outputs": [
    {
     "name": "stdout",
     "output_type": "stream",
     "text": [
      "saving\n",
      "."
     ]
    },
    {
     "name": "stderr",
     "output_type": "stream",
     "text": [
      "/home/ql2221/Projects/thermalizer/thermalizer/kolmogorov/performance.py:430: UserWarning: To copy construct from a tensor, it is recommended to use sourceTensor.clone().detach() or sourceTensor.clone().detach().requires_grad_(True), rather than torch.tensor(sourceTensor).\n",
      "  x=torch.tensor(self.pred).float().unsqueeze(0).unsqueeze(0)\n",
      "/home/ql2221/Projects/thermalizer/thermalizer/kolmogorov/performance.py:442: UserWarning: To copy construct from a tensor, it is recommended to use sourceTensor.clone().detach() or sourceTensor.clone().detach().requires_grad_(True), rather than torch.tensor(sourceTensor).\n",
      "  \n"
     ]
    },
    {
     "name": "stdout",
     "output_type": "stream",
     "text": [
      "..........."
     ]
    },
    {
     "ename": "IndexError",
     "evalue": "index 100 is out of bounds for dimension 0 with size 100",
     "output_type": "error",
     "traceback": [
      "\u001b[31m---------------------------------------------------------------------------\u001b[39m",
      "\u001b[31mIndexError\u001b[39m                                Traceback (most recent call last)",
      "\u001b[36mCell\u001b[39m\u001b[36m \u001b[39m\u001b[32mIn[24]\u001b[39m\u001b[32m, line 1\u001b[39m\n\u001b[32m----> \u001b[39m\u001b[32m1\u001b[39m \u001b[43mroll\u001b[49m\u001b[43m.\u001b[49m\u001b[43manimate\u001b[49m\u001b[43m(\u001b[49m\u001b[43m)\u001b[49m\n",
      "\u001b[36mFile \u001b[39m\u001b[32m~/Projects/thermalizer/thermalizer/kolmogorov/performance.py:503\u001b[39m, in \u001b[36manimate\u001b[39m\u001b[34m(self)\u001b[39m\n\u001b[32m    501\u001b[39m     writervideo = animation.FFMpegWriter(fps=\u001b[38;5;28mself\u001b[39m.fps) \n\u001b[32m    502\u001b[39m     anim.save(\u001b[33m'\u001b[39m\u001b[38;5;132;01m%s\u001b[39;00m\u001b[33m.mp4\u001b[39m\u001b[33m'\u001b[39m % \u001b[38;5;28mself\u001b[39m.savestring, writer=writervideo) \n\u001b[32m--> \u001b[39m\u001b[32m503\u001b[39m     plt.close()\n\u001b[32m    504\u001b[39m \u001b[38;5;28;01melse\u001b[39;00m:\n\u001b[32m    505\u001b[39m     \u001b[38;5;28;01mreturn\u001b[39;00m HTML(anim.to_html5_video())\n",
      "\u001b[36mFile \u001b[39m\u001b[32m/ext3/miniforge3/lib/python3.12/site-packages/matplotlib/animation.py:1122\u001b[39m, in \u001b[36mAnimation.save\u001b[39m\u001b[34m(self, filename, writer, fps, dpi, codec, bitrate, extra_args, metadata, extra_anim, savefig_kwargs, progress_callback)\u001b[39m\n\u001b[32m   1119\u001b[39m \u001b[38;5;28;01mfor\u001b[39;00m data \u001b[38;5;129;01min\u001b[39;00m \u001b[38;5;28mzip\u001b[39m(*[a.new_saved_frame_seq() \u001b[38;5;28;01mfor\u001b[39;00m a \u001b[38;5;129;01min\u001b[39;00m all_anim]):\n\u001b[32m   1120\u001b[39m     \u001b[38;5;28;01mfor\u001b[39;00m anim, d \u001b[38;5;129;01min\u001b[39;00m \u001b[38;5;28mzip\u001b[39m(all_anim, data):\n\u001b[32m   1121\u001b[39m         \u001b[38;5;66;03m# TODO: See if turning off blit is really necessary\u001b[39;00m\n\u001b[32m-> \u001b[39m\u001b[32m1122\u001b[39m         \u001b[43manim\u001b[49m\u001b[43m.\u001b[49m\u001b[43m_draw_next_frame\u001b[49m\u001b[43m(\u001b[49m\u001b[43md\u001b[49m\u001b[43m,\u001b[49m\u001b[43m \u001b[49m\u001b[43mblit\u001b[49m\u001b[43m=\u001b[49m\u001b[38;5;28;43;01mFalse\u001b[39;49;00m\u001b[43m)\u001b[49m\n\u001b[32m   1123\u001b[39m         \u001b[38;5;28;01mif\u001b[39;00m progress_callback \u001b[38;5;129;01mis\u001b[39;00m \u001b[38;5;129;01mnot\u001b[39;00m \u001b[38;5;28;01mNone\u001b[39;00m:\n\u001b[32m   1124\u001b[39m             progress_callback(frame_number, total_frames)\n",
      "\u001b[36mFile \u001b[39m\u001b[32m/ext3/miniforge3/lib/python3.12/site-packages/matplotlib/animation.py:1157\u001b[39m, in \u001b[36mAnimation._draw_next_frame\u001b[39m\u001b[34m(self, framedata, blit)\u001b[39m\n\u001b[32m   1153\u001b[39m \u001b[38;5;28;01mdef\u001b[39;00m\u001b[38;5;250m \u001b[39m\u001b[34m_draw_next_frame\u001b[39m(\u001b[38;5;28mself\u001b[39m, framedata, blit):\n\u001b[32m   1154\u001b[39m     \u001b[38;5;66;03m# Breaks down the drawing of the next frame into steps of pre- and\u001b[39;00m\n\u001b[32m   1155\u001b[39m     \u001b[38;5;66;03m# post- draw, as well as the drawing of the frame itself.\u001b[39;00m\n\u001b[32m   1156\u001b[39m     \u001b[38;5;28mself\u001b[39m._pre_draw(framedata, blit)\n\u001b[32m-> \u001b[39m\u001b[32m1157\u001b[39m     \u001b[38;5;28;43mself\u001b[39;49m\u001b[43m.\u001b[49m\u001b[43m_draw_frame\u001b[49m\u001b[43m(\u001b[49m\u001b[43mframedata\u001b[49m\u001b[43m)\u001b[49m\n\u001b[32m   1158\u001b[39m     \u001b[38;5;28mself\u001b[39m._post_draw(framedata, blit)\n",
      "\u001b[36mFile \u001b[39m\u001b[32m/ext3/miniforge3/lib/python3.12/site-packages/matplotlib/animation.py:1789\u001b[39m, in \u001b[36mFuncAnimation._draw_frame\u001b[39m\u001b[34m(self, framedata)\u001b[39m\n\u001b[32m   1785\u001b[39m     \u001b[38;5;28mself\u001b[39m._save_seq = \u001b[38;5;28mself\u001b[39m._save_seq[-\u001b[38;5;28mself\u001b[39m._save_count:]\n\u001b[32m   1787\u001b[39m \u001b[38;5;66;03m# Call the func with framedata and args. If blitting is desired,\u001b[39;00m\n\u001b[32m   1788\u001b[39m \u001b[38;5;66;03m# func needs to return a sequence of any artists that were modified.\u001b[39;00m\n\u001b[32m-> \u001b[39m\u001b[32m1789\u001b[39m \u001b[38;5;28mself\u001b[39m._drawn_artists = \u001b[38;5;28;43mself\u001b[39;49m\u001b[43m.\u001b[49m\u001b[43m_func\u001b[49m\u001b[43m(\u001b[49m\u001b[43mframedata\u001b[49m\u001b[43m,\u001b[49m\u001b[43m \u001b[49m\u001b[43m*\u001b[49m\u001b[38;5;28;43mself\u001b[39;49m\u001b[43m.\u001b[49m\u001b[43m_args\u001b[49m\u001b[43m)\u001b[49m\n\u001b[32m   1791\u001b[39m \u001b[38;5;28;01mif\u001b[39;00m \u001b[38;5;28mself\u001b[39m._blit:\n\u001b[32m   1793\u001b[39m     err = \u001b[38;5;167;01mRuntimeError\u001b[39;00m(\u001b[33m'\u001b[39m\u001b[33mThe animation function must return a sequence \u001b[39m\u001b[33m'\u001b[39m\n\u001b[32m   1794\u001b[39m                        \u001b[33m'\u001b[39m\u001b[33mof Artist objects.\u001b[39m\u001b[33m'\u001b[39m)\n",
      "\u001b[36mFile \u001b[39m\u001b[32m~/Projects/thermalizer/thermalizer/kolmogorov/performance.py:516\u001b[39m, in \u001b[36manimate_func\u001b[39m\u001b[34m(self, i)\u001b[39m\n\u001b[32m    514\u001b[39m \u001b[38;5;66;03m## Set image and colorbar for each panel\u001b[39;00m\n\u001b[32m    515\u001b[39m image=\u001b[38;5;28mself\u001b[39m.ds[\u001b[38;5;28mself\u001b[39m.i].numpy()\n\u001b[32m--> \u001b[39m\u001b[32m516\u001b[39m \u001b[38;5;28mself\u001b[39m.ax1.set_array(image)\n\u001b[32m    517\u001b[39m \u001b[38;5;28mself\u001b[39m.ax1.set_clim(-np.max(np.abs(image)), np.max(np.abs(image)))\n\u001b[32m    519\u001b[39m image=\u001b[38;5;28mself\u001b[39m.pred.numpy()\n",
      "\u001b[31mIndexError\u001b[39m: index 100 is out of bounds for dimension 0 with size 100"
     ]
    }
   ],
   "source": [
    "roll.animate()"
   ]
  },
  {
   "cell_type": "code",
   "execution_count": null,
   "id": "d6860f5e-cc73-49df-9f3d-3e6d05cfcec4",
   "metadata": {},
   "outputs": [],
   "source": []
  }
 ],
 "metadata": {
  "kernelspec": {
   "display_name": "my_env",
   "language": "python",
   "name": "my_env"
  },
  "language_info": {
   "codemirror_mode": {
    "name": "ipython",
    "version": 3
   },
   "file_extension": ".py",
   "mimetype": "text/x-python",
   "name": "python",
   "nbconvert_exporter": "python",
   "pygments_lexer": "ipython3",
   "version": "3.12.8"
  }
 },
 "nbformat": 4,
 "nbformat_minor": 5
}
