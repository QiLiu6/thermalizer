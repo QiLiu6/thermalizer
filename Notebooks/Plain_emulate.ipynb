{
 "cells": [
  {
   "cell_type": "code",
   "execution_count": 1,
   "id": "bab4710e-6f17-4671-be51-ea76aa91a4d8",
   "metadata": {},
   "outputs": [],
   "source": [
    "import torch\n",
    "import pickle\n",
    "import os\n",
    "from tqdm import tqdm\n",
    "sys.path.append('/home/ql2221/Projects/thermalizer/thermalizer/kolmogorov')\n",
    "import performance\n",
    "sys.path.append('/home/ql2221/Projects/thermalizer/thermalizer/models')\n",
    "import misc\n",
    "sys.path.append('/home/ql2221/Projects/thermalizer/thermalizer/systems')\n",
    "import training_systems"
   ]
  },
  {
   "cell_type": "code",
   "execution_count": 2,
   "id": "fc764d65-5f44-4f5f-907b-6ddf8f7c4b29",
   "metadata": {},
   "outputs": [],
   "source": [
    "#get the emulator\n",
    "device = torch.device(\"cuda\" if torch.cuda.is_available() else \"cpu\")\n",
    "# device = torch.device(\"cpu\")\n",
    "file_string = '/scratch/ql2221/thermalizer_data/wandb_data/wandb/run-20250526_223850-r12kgbg1/files/checkpoint_best.p'\n",
    "with open(file_string, 'rb') as f:\n",
    "    checkpoint = pickle.load(f)\n",
    "\n",
    "# Extract the configuration (this might include hyperparameters, model architecture details, etc.)\n",
    "config = checkpoint['config']"
   ]
  },
  {
   "cell_type": "code",
   "execution_count": 3,
   "id": "e987b452-3cc4-4376-8882-31311c14bd84",
   "metadata": {},
   "outputs": [],
   "source": [
    "model=misc.load_model(file_string).to(device)"
   ]
  },
  {
   "cell_type": "code",
   "execution_count": 4,
   "id": "10f39719-6595-4d0b-912e-7177e804e4bf",
   "metadata": {},
   "outputs": [
    {
     "name": "stdout",
     "output_type": "stream",
     "text": [
      "Prep data\n"
     ]
    },
    {
     "name": "stderr",
     "output_type": "stream",
     "text": [
      "/ext3/miniforge3/lib/python3.12/site-packages/torch/utils/data/dataloader.py:624: UserWarning: This DataLoader will create 3 worker processes in total. Our suggested max number of worker in current system is 1, which is smaller than what this DataLoader is going to create. Please be aware that excessive worker creation might get DataLoader running slow or even freeze, lower the worker number to avoid potential slowness/freeze if necessary.\n",
      "  warnings.warn(\n"
     ]
    },
    {
     "name": "stdout",
     "output_type": "stream",
     "text": [
      "Prep model\n",
      "Prep optimizer\n"
     ]
    },
    {
     "name": "stderr",
     "output_type": "stream",
     "text": [
      "Failed to detect the name of this notebook, you can set it manually with the WANDB_NOTEBOOK_NAME environment variable to enable code saving.\n",
      "\u001b[34m\u001b[1mwandb\u001b[0m: Using wandb-core as the SDK backend.  Please refer to https://wandb.me/wandb-core for more information.\n",
      "\u001b[34m\u001b[1mwandb\u001b[0m: Currently logged in as: \u001b[33mql2221\u001b[0m (\u001b[33mqiliu2221\u001b[0m) to \u001b[32mhttps://api.wandb.ai\u001b[0m. Use \u001b[1m`wandb login --relogin`\u001b[0m to force relogin\n"
     ]
    },
    {
     "data": {
      "text/html": [
       "Tracking run with wandb version 0.19.7"
      ],
      "text/plain": [
       "<IPython.core.display.HTML object>"
      ]
     },
     "metadata": {},
     "output_type": "display_data"
    },
    {
     "data": {
      "text/html": [
       "Run data is saved locally in <code>/scratch/ql2221/thermalizer_data/wandb_data/wandb/run-20250602_214125-r12kgbg1</code>"
      ],
      "text/plain": [
       "<IPython.core.display.HTML object>"
      ]
     },
     "metadata": {},
     "output_type": "display_data"
    },
    {
     "data": {
      "text/html": [
       "Resuming run <strong><a href='https://wandb.ai/qiliu2221/thermalizer/runs/r12kgbg1' target=\"_blank\">dulcet-grass-56</a></strong> to <a href='https://wandb.ai/qiliu2221/thermalizer' target=\"_blank\">Weights & Biases</a> (<a href='https://wandb.me/developer-guide' target=\"_blank\">docs</a>)<br>"
      ],
      "text/plain": [
       "<IPython.core.display.HTML object>"
      ]
     },
     "metadata": {},
     "output_type": "display_data"
    },
    {
     "data": {
      "text/html": [
       " View project at <a href='https://wandb.ai/qiliu2221/thermalizer' target=\"_blank\">https://wandb.ai/qiliu2221/thermalizer</a>"
      ],
      "text/plain": [
       "<IPython.core.display.HTML object>"
      ]
     },
     "metadata": {},
     "output_type": "display_data"
    },
    {
     "data": {
      "text/html": [
       " View run at <a href='https://wandb.ai/qiliu2221/thermalizer/runs/r12kgbg1' target=\"_blank\">https://wandb.ai/qiliu2221/thermalizer/runs/r12kgbg1</a>"
      ],
      "text/plain": [
       "<IPython.core.display.HTML object>"
      ]
     },
     "metadata": {},
     "output_type": "display_data"
    }
   ],
   "source": [
    "checkpoint_string = \"/scratch/ql2221/thermalizer_data/wandb_data/wandb/run-20250526_223850-r12kgbg1/files/checkpoint_last.p\"\n",
    "trainer = training_systems.trainer_from_checkpoint(checkpoint_string)\n",
    "model= trainer.model"
   ]
  },
  {
   "cell_type": "code",
   "execution_count": 5,
   "id": "cadbbf20-d07f-4e1b-b606-73bb82cf6a82",
   "metadata": {},
   "outputs": [],
   "source": [
    "#load data\n",
    "import pickle\n",
    "\n",
    "# Load data from a .pkl file\n",
    "with open(\"/scratch/cp3759/thermalizer_data/kolmogorov/reynolds10k/test40.p\", \"rb\") as f:\n",
    "    loaded_data = pickle.load(f)\n",
    "\n",
    "sim_stack_loaded = loaded_data[\"data\"]"
   ]
  },
  {
   "cell_type": "code",
   "execution_count": 6,
   "id": "db022b83-699c-4487-a998-0baf889c7a20",
   "metadata": {},
   "outputs": [
    {
     "name": "stdout",
     "output_type": "stream",
     "text": [
      "torch.Size([1, 25000, 64, 64])\n"
     ]
    }
   ],
   "source": [
    "device = torch.device(\"cuda\" if torch.cuda.is_available() else \"cpu\")\n",
    "x = sim_stack_loaded[0,:,:,:]\n",
    "x = x.unsqueeze(0).to(device)\n",
    "print(x.shape)"
   ]
  },
  {
   "cell_type": "code",
   "execution_count": 7,
   "id": "99bfe823-2ca4-4ed2-b11b-ca83b3a60e56",
   "metadata": {},
   "outputs": [
    {
     "name": "stderr",
     "output_type": "stream",
     "text": [
      "100%|██████████| 24999/24999 [02:59<00:00, 139.22it/s]\n"
     ]
    }
   ],
   "source": [
    "emu_rollout=performance.EmulatorRollout(x,model,residual=True,sigma=None,silence=False)\n",
    "emu_rollout.evolve()"
   ]
  },
  {
   "cell_type": "code",
   "execution_count": 12,
   "id": "9249ae7e-00fd-41c6-9ca1-753563c7d46e",
   "metadata": {},
   "outputs": [],
   "source": [
    "import matplotlib.pyplot as plt\n",
    "from matplotlib import animation\n",
    "def make_movie(state_vector, save_path=\"emulator_movie.mp4\", fps=30, vmin=None, vmax=None, stride=10):\n",
    "    \"\"\"\n",
    "    Create a movie from a 4D tensor of shape (batch, time, height, width), using only every `stride`-th frame.\n",
    "    \n",
    "    Parameters:\n",
    "    - state_vector: torch.Tensor of shape (B, T, H, W)\n",
    "    - save_path: output video file path\n",
    "    - fps: frames per second for the movie\n",
    "    - vmin, vmax: color scale\n",
    "    - stride: only include every `stride`th frame in the video\n",
    "    \"\"\"\n",
    "    B, T, H, W = state_vector.shape\n",
    "    data = state_vector[0].cpu().numpy()\n",
    "\n",
    "    fig, ax = plt.subplots()\n",
    "    im = ax.imshow(data[0], cmap=\"viridis\", vmin=vmin, vmax=vmax)\n",
    "    ax.set_title(\"Timestep 0\")\n",
    "    fig.colorbar(im, ax=ax)\n",
    "\n",
    "    # Frame indices to use\n",
    "    frame_indices = list(range(0, T, stride))\n",
    "\n",
    "    def update(frame_idx):\n",
    "        frame = frame_indices[frame_idx]\n",
    "        im.set_data(data[frame])\n",
    "        ax.set_title(f\"Timestep {frame}\")\n",
    "        return im,\n",
    "\n",
    "    ani = animation.FuncAnimation(fig, update, frames=len(frame_indices), blit=False, repeat=False)\n",
    "    ani.save(save_path, fps=fps)\n",
    "    plt.close(fig)\n",
    "    print(\"movie saved\")"
   ]
  },
  {
   "cell_type": "code",
   "execution_count": 13,
   "id": "6d7ee926-190a-4e2d-885c-984dc2e89245",
   "metadata": {},
   "outputs": [
    {
     "name": "stdout",
     "output_type": "stream",
     "text": [
      "movie saved\n"
     ]
    }
   ],
   "source": [
    "rollout = emu_rollout.emu\n",
    "make_movie(rollout, save_path=\"rollout.mp4\", fps=30)"
   ]
  },
  {
   "cell_type": "code",
   "execution_count": 14,
   "id": "d6860f5e-cc73-49df-9f3d-3e6d05cfcec4",
   "metadata": {},
   "outputs": [
    {
     "name": "stdout",
     "output_type": "stream",
     "text": [
      "movie saved\n"
     ]
    }
   ],
   "source": [
    "make_movie(x, save_path=\"ground_truth.mp4\", fps=30)"
   ]
  },
  {
   "cell_type": "code",
   "execution_count": null,
   "id": "f859f771-f931-41d4-b816-98a47ea7cbcc",
   "metadata": {},
   "outputs": [],
   "source": []
  }
 ],
 "metadata": {
  "kernelspec": {
   "display_name": "my_env",
   "language": "python",
   "name": "my_env"
  },
  "language_info": {
   "codemirror_mode": {
    "name": "ipython",
    "version": 3
   },
   "file_extension": ".py",
   "mimetype": "text/x-python",
   "name": "python",
   "nbconvert_exporter": "python",
   "pygments_lexer": "ipython3",
   "version": "3.12.8"
  }
 },
 "nbformat": 4,
 "nbformat_minor": 5
}
