{
 "cells": [
  {
   "cell_type": "code",
   "execution_count": 3,
   "id": "c0a113d9-1f36-44b5-aad8-4bb84d8e7317",
   "metadata": {},
   "outputs": [],
   "source": [
    "import torch\n",
    "import pickle\n",
    "import os\n",
    "sys.path.append('/home/ql2221/Projects/thermalizer/thermalizer/kolmogorov')\n",
    "import performance\n",
    "sys.path.append('/home/ql2221/Projects/thermalizer/thermalizer/models')\n",
    "import misc"
   ]
  },
  {
   "cell_type": "code",
   "execution_count": 4,
   "id": "fc764d65-5f44-4f5f-907b-6ddf8f7c4b29",
   "metadata": {},
   "outputs": [
    {
     "name": "stdout",
     "output_type": "stream",
     "text": [
      "dict_keys(['epoch', 'training_step', 'state_dict', 'optimizer_state_dict', 'val_loss', 'config'])\n"
     ]
    }
   ],
   "source": [
    "#get the emulator\n",
    "device = torch.device(\"cuda\" if torch.cuda.is_available() else \"cpu\")\n",
    "\n",
    "with open('/scratch/ql2221/thermalizer_data/wandb_data/wandb/run-20250526_223850-r12kgbg1/files/checkpoint_last.p', 'rb') as f:\n",
    "    checkpoint = pickle.load(f)\n",
    "\n",
    "print(checkpoint.keys())  # Print the content to check what it contains (model, optimizer, etc.)\n",
    "\n",
    "model_weights = checkpoint['state_dict']\n",
    "optimizer_state_dict = checkpoint['optimizer_state_dict']\n",
    "\n",
    "# Extract the configuration (this might include hyperparameters, model architecture details, etc.)\n",
    "config = checkpoint['config']\n",
    "\n",
    "# Initialize your model with the correct config\n",
    "# Assuming you have a model class like 'ModernUnet' from the 'unet_modern' module\n",
    "model=misc.model_factory(config).to(device)\n"
   ]
  },
  {
   "cell_type": "code",
   "execution_count": 5,
   "id": "cadbbf20-d07f-4e1b-b606-73bb82cf6a82",
   "metadata": {},
   "outputs": [],
   "source": [
    "#load data\n",
    "import pickle\n",
    "\n",
    "# Load data from a .pkl file\n",
    "with open(\"/scratch/cp3759/thermalizer_data/kolmogorov/reynolds10k/test40.p\", \"rb\") as f:\n",
    "    loaded_data = pickle.load(f)\n",
    "\n",
    "sim_stack_loaded = loaded_data[\"data\"]"
   ]
  },
  {
   "cell_type": "code",
   "execution_count": 9,
   "id": "db022b83-699c-4487-a998-0baf889c7a20",
   "metadata": {},
   "outputs": [],
   "source": [
    "x = sim_stack_loaded[0,0,:,:]\n",
    "x = (x - torch.mean(x))/4.44\n",
    "x = x.unsqueeze(0).to(device)"
   ]
  },
  {
   "cell_type": "code",
   "execution_count": null,
   "id": "769ed14c-2784-4874-8e69-0ac9a642711a",
   "metadata": {},
   "outputs": [],
   "source": []
  }
 ],
 "metadata": {
  "kernelspec": {
   "display_name": "my_env",
   "language": "python",
   "name": "my_env"
  },
  "language_info": {
   "codemirror_mode": {
    "name": "ipython",
    "version": 3
   },
   "file_extension": ".py",
   "mimetype": "text/x-python",
   "name": "python",
   "nbconvert_exporter": "python",
   "pygments_lexer": "ipython3",
   "version": "3.12.8"
  }
 },
 "nbformat": 4,
 "nbformat_minor": 5
}
