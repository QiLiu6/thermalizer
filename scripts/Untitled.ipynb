{
 "cells": [
  {
   "cell_type": "code",
   "execution_count": null,
   "id": "183fe89b-6bb3-4e1a-8c8c-87af4e848246",
   "metadata": {},
   "outputs": [
    {
     "name": "stdout",
     "output_type": "stream",
     "text": [
      "Prep data\n"
     ]
    },
    {
     "name": "stderr",
     "output_type": "stream",
     "text": [
      "/ext3/miniforge3/lib/python3.12/site-packages/torch/utils/data/dataloader.py:624: UserWarning: This DataLoader will create 3 worker processes in total. Our suggested max number of worker in current system is 2, which is smaller than what this DataLoader is going to create. Please be aware that excessive worker creation might get DataLoader running slow or even freeze, lower the worker number to avoid potential slowness/freeze if necessary.\n",
      "  warnings.warn(\n"
     ]
    },
    {
     "name": "stdout",
     "output_type": "stream",
     "text": [
      "Prep model\n",
      "Prep optimizer\n"
     ]
    },
    {
     "name": "stderr",
     "output_type": "stream",
     "text": [
      "Failed to detect the name of this notebook, you can set it manually with the WANDB_NOTEBOOK_NAME environment variable to enable code saving.\n",
      "\u001b[34m\u001b[1mwandb\u001b[0m: Using wandb-core as the SDK backend.  Please refer to https://wandb.me/wandb-core for more information.\n",
      "\u001b[34m\u001b[1mwandb\u001b[0m: Currently logged in as: \u001b[33mql2221\u001b[0m (\u001b[33mqiliu2221\u001b[0m) to \u001b[32mhttps://api.wandb.ai\u001b[0m. Use \u001b[1m`wandb login --relogin`\u001b[0m to force relogin\n"
     ]
    },
    {
     "data": {
      "text/html": [
       "Tracking run with wandb version 0.19.7"
      ],
      "text/plain": [
       "<IPython.core.display.HTML object>"
      ]
     },
     "metadata": {},
     "output_type": "display_data"
    },
    {
     "data": {
      "text/html": [
       "Run data is saved locally in <code>/scratch/ql2221/thermalizer_data/wandb_data/wandb/run-20250527_170610-r12kgbg1</code>"
      ],
      "text/plain": [
       "<IPython.core.display.HTML object>"
      ]
     },
     "metadata": {},
     "output_type": "display_data"
    },
    {
     "data": {
      "text/html": [
       "Resuming run <strong><a href='https://wandb.ai/qiliu2221/thermalizer/runs/r12kgbg1' target=\"_blank\">dulcet-grass-56</a></strong> to <a href='https://wandb.ai/qiliu2221/thermalizer' target=\"_blank\">Weights & Biases</a> (<a href='https://wandb.me/developer-guide' target=\"_blank\">docs</a>)<br>"
      ],
      "text/plain": [
       "<IPython.core.display.HTML object>"
      ]
     },
     "metadata": {},
     "output_type": "display_data"
    },
    {
     "data": {
      "text/html": [
       " View project at <a href='https://wandb.ai/qiliu2221/thermalizer' target=\"_blank\">https://wandb.ai/qiliu2221/thermalizer</a>"
      ],
      "text/plain": [
       "<IPython.core.display.HTML object>"
      ]
     },
     "metadata": {},
     "output_type": "display_data"
    },
    {
     "data": {
      "text/html": [
       " View run at <a href='https://wandb.ai/qiliu2221/thermalizer/runs/r12kgbg1' target=\"_blank\">https://wandb.ai/qiliu2221/thermalizer/runs/r12kgbg1</a>"
      ],
      "text/plain": [
       "<IPython.core.display.HTML object>"
      ]
     },
     "metadata": {},
     "output_type": "display_data"
    },
    {
     "name": "stderr",
     "output_type": "stream",
     "text": [
      "/ext3/miniforge3/lib/python3.12/site-packages/torch/utils/data/dataloader.py:624: UserWarning: This DataLoader will create 3 worker processes in total. Our suggested max number of worker in current system is 2, which is smaller than what this DataLoader is going to create. Please be aware that excessive worker creation might get DataLoader running slow or even freeze, lower the worker number to avoid potential slowness/freeze if necessary.\n",
      "  warnings.warn(\n"
     ]
    }
   ],
   "source": [
    "import os\n",
    "from thermalizer.systems import training_systems\n",
    "import wandb\n",
    "\n",
    "## Stop jax hoovering up GPU memory\n",
    "os.environ[\"XLA_PYTHON_CLIENT_PREALLOCATE\"] = \"false\"\n",
    "\n",
    "config={}\n",
    "config[\"input_channels\"]=1\n",
    "config[\"output_channels\"]=1\n",
    "config[\"model_type\"]=\"ModernUnet\"\n",
    "config[\"dim_mults\"]=[2,2,2]\n",
    "config[\"hidden_channels\"]=64\n",
    "config[\"activation\"]=\"gelu\"\n",
    "config[\"loader_workers\"]=3\n",
    "config[\"ddp\"]=False\n",
    "config[\"project\"]=\"thermalizer\"\n",
    "config[\"rollout_scheduler\"]=20000\n",
    "config[\"max_rollout\"]=4\n",
    "config[\"norm\"]=False\n",
    "config[\"sigma\"]=1e-4\n",
    "config[\"PDE\"]=\"Kolmogorov\"\n",
    "config[\"file_path\"]=\"/scratch/cp3759/thermalizer_data/kolmogorov/reynolds10k/emu_big.p\"\n",
    "config[\"test_data\"]=\"/scratch/cp3759/thermalizer_data/kolmogorov/reynolds10k/test40.p\"\n",
    "config[\"subsample\"]=None\n",
    "config[\"train_ratio\"]=0.95\n",
    "config[\"save_name\"]=\"model_weights.pt\"\n",
    "config[\"residual_loss\"]=\"Residual\"\n",
    "#config[\"short_rollout\"]=1\n",
    "#config[\"add_noise\"]=1e-4\n",
    "config[\"optimization\"]={}\n",
    "config[\"optimization\"][\"epochs\"]=12\n",
    "config[\"optimization\"][\"lr\"]=0.00005\n",
    "config[\"optimization\"][\"wd\"]=0.05\n",
    "config[\"optimization\"][\"batch_size\"]=32\n",
    "config[\"optimization\"][\"gradient_clipping\"]=1.\n",
    "config[\"optimization\"][\"scheduler_step\"]=100000\n",
    "config[\"optimization\"][\"scheduler_gamma\"]=0.5\n",
    "\n",
    "#if training from checkpoint uncomment this\n",
    "checkpoint_string = \"/scratch/ql2221/thermalizer_data/wandb_data/wandb/run-20250526_223850-r12kgbg1/files/checkpoint_last.p\"\n",
    "trainer = training_systems.trainer_from_checkpoint(checkpoint_string)\n",
    "trainer.config[\"optimization\"][\"epochs\"]= config[\"optimization\"][\"epochs\"]\n",
    "\n",
    "# trainer=training_systems.ResidualEmulatorTrainer(config)\n",
    "trainer.run()\n",
    "trainer.performance()\n",
    "wandb.finish()"
   ]
  },
  {
   "cell_type": "code",
   "execution_count": null,
   "id": "59e75441-1f44-4a86-9d66-cd1c8327b9ac",
   "metadata": {},
   "outputs": [],
   "source": []
  }
 ],
 "metadata": {
  "kernelspec": {
   "display_name": "my_env",
   "language": "python",
   "name": "my_env"
  },
  "language_info": {
   "codemirror_mode": {
    "name": "ipython",
    "version": 3
   },
   "file_extension": ".py",
   "mimetype": "text/x-python",
   "name": "python",
   "nbconvert_exporter": "python",
   "pygments_lexer": "ipython3",
   "version": "3.12.8"
  }
 },
 "nbformat": 4,
 "nbformat_minor": 5
}
